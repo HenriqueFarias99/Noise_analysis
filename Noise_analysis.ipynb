{
  "nbformat": 4,
  "nbformat_minor": 0,
  "metadata": {
    "colab": {
      "provenance": []
    },
    "kernelspec": {
      "name": "python3",
      "display_name": "Python 3"
    },
    "language_info": {
      "name": "python"
    }
  },
  "cells": [
    {
      "cell_type": "code",
      "source": [
        "#IMPORTING THE LIBRARIES\n",
        "\n",
        "%matplotlib inline\n",
        "import matplotlib.pyplot as plt\n",
        "import numpy as np              \n",
        "import librosa as lb             \n",
        "from IPython.display import Audio \n",
        "import librosa.display"
      ],
      "metadata": {
        "id": "zuitlGkNU2Fs"
      },
      "execution_count": null,
      "outputs": []
    },
    {
      "cell_type": "code",
      "source": [
        "#Importing the audio object of the analysis\n",
        "\n",
        "Audio_file = '#Insert here the address of your audio archive and its extension (.wav, .m4a, etc...)'              #Insert here the address of your audio archive and its extension (.wav, .m4a, etc...)\n",
        "\n",
        "LABEL = 'Insert here the name of the archive'                                                                     #Insert here the name of the archive"
      ],
      "metadata": {
        "id": "-4s-MGCKU6vc"
      },
      "execution_count": null,
      "outputs": []
    },
    {
      "cell_type": "code",
      "source": [
        "#Load an audio file as a floating point time series\n",
        "\n",
        "signal_audio, sr = lb.load(Audio_file, sr=None, mono=True)"
      ],
      "metadata": {
        "id": "Zs-J9OmxWTEO"
      },
      "execution_count": null,
      "outputs": []
    },
    {
      "cell_type": "code",
      "source": [
        "#Make sure this is the desired audio to be analysed\n",
        "\n",
        "print(\"AUDIO LOADED\")\n",
        "Audio(data=signal_audio, rate=sr)"
      ],
      "metadata": {
        "id": "l5SJOkufWZF-"
      },
      "execution_count": null,
      "outputs": []
    },
    {
      "cell_type": "code",
      "source": [
        "#Calculating the period of sinal, and arranging into an array  \n",
        "\n",
        "fs = sr\n",
        "Ts = 1/fs\n",
        "n = np.arange(0, len(signal_audio)*Ts, Ts)"
      ],
      "metadata": {
        "id": "DufrZ1khWbim"
      },
      "execution_count": null,
      "outputs": []
    },
    {
      "cell_type": "code",
      "source": [
        "#Generating waveform of signal audio\n",
        "\n",
        "plt.figure( figsize=(25, 8))\n",
        "plt.plot(n, signal_audio,label=LABEL) \n",
        "plt.title('SIGNAL');\n",
        "plt.ylabel('Signal magnitude')\n",
        "plt.xlabel('Time')\n",
        "plt.legend()\n",
        "plt.grid(True)\n",
        "plt.xticks(np.arange(0, max(n), step=1))\n",
        "plt.show()"
      ],
      "metadata": {
        "id": "5KHAO1phWvjY"
      },
      "execution_count": null,
      "outputs": []
    },
    {
      "cell_type": "code",
      "source": [
        "#Performing RFFT of the signal\n",
        "\n",
        "xk = np.abs(np.fft.rfft(signal_audio))"
      ],
      "metadata": {
        "id": "gwbMEV5nVsRw"
      },
      "execution_count": null,
      "outputs": []
    },
    {
      "cell_type": "code",
      "source": [
        "#Ploting the spectrum of the signal - Linear amplitude\n",
        "\n",
        "freqs = np.arange(len(xk))\n",
        "freqs = freqs * sr/ len(freqs)\n",
        "plt.figure( figsize=(25, 10))\n",
        "plt.plot(freqs,xk,label=LABEL)\n",
        "plt.title('SPECTRUM - Linear Amplitude');\n",
        "plt.ylabel('Amplitude')\n",
        "plt.xlabel('Frequency [Hz]')\n",
        "plt.xticks(np.arange(0, max(freqs)/2, step=1000))\n",
        "plt.xlim([0,max(freqs)/2]) \n",
        "plt.ylim([0,max(xk)*1.1])\n",
        "plt.grid(True)\n",
        "plt.legend()\n",
        "plt.show()\n",
        "print()\n"
      ],
      "metadata": {
        "id": "hivr2lqrXM9X"
      },
      "execution_count": null,
      "outputs": []
    },
    {
      "cell_type": "code",
      "source": [
        "#Ploting the spectrum of the signal - dB amplitude\n",
        "\n",
        "magnitude_db = 20 * np.log10(xk)\n",
        "freqs = np.arange(len(xk))\n",
        "freqs = freqs * sr/ len(freqs)\n",
        "plt.figure( figsize=(25, 8))\n",
        "plt.plot(freqs,magnitude_db,label=LABEL)\n",
        "plt.title('SPECTRUM - dB Amplitude');\n",
        "plt.ylabel('Amplitude (dB)')\n",
        "plt.xlabel('Frequency [Hz]')\n",
        "plt.xticks(np.arange(0, max(freqs)/2, step=1000))\n",
        "plt.xlim([0,max(freqs)/2])\n",
        "plt.grid(True)\n",
        "plt.legend()\n",
        "plt.show()\n",
        "print()"
      ],
      "metadata": {
        "id": "fsjztFYcVydB"
      },
      "execution_count": null,
      "outputs": []
    },
    {
      "cell_type": "code",
      "source": [
        "#Ploting the mel spectrogram\n",
        "\n",
        "mel_spectrogram = lb.feature.melspectrogram(signal_audio, sr=sr, n_mels=128)\n",
        "\n",
        "plt.figure(figsize=(25,8))\n",
        "lb.display.specshow(lb.power_to_db(mel_spectrogram), sr=sr, x_axis='time', y_axis='mel')\n",
        "plt.colorbar(format='%+2.0f dB')\n",
        "plt.title('SPECTROGRAM')\n",
        "plt.show()"
      ],
      "metadata": {
        "id": "n0f8xJVj2E5P"
      },
      "execution_count": null,
      "outputs": []
    },
    {
      "cell_type": "code",
      "source": [
        "#Ploting the graphics of frequency power spectrogram\n",
        "\n",
        "fig, ax = plt.subplots(figsize=(25, 8), nrows=2, ncols=1, sharex=True)\n",
        "D = librosa.amplitude_to_db(np.abs(librosa.stft(signal_audio)), ref=np.max)\n",
        "img = librosa.display.specshow(D, y_axis='linear', x_axis='time',\n",
        "                               sr=sr, ax=ax[0])\n",
        "\n",
        "ax[0].set(title='Linear-frequency power spectrogram')\n",
        "ax[0].label_outer()\n",
        "\n",
        "hop_length = 1024\n",
        "D = librosa.amplitude_to_db(np.abs(librosa.stft(signal_audio, hop_length=hop_length)),\n",
        "                            ref=np.max)\n",
        "librosa.display.specshow(D, y_axis='log', sr=sr, hop_length=hop_length,\n",
        "                         x_axis='time', ax=ax[1])\n",
        "ax[1].set(title='Log-frequency power spectrogram')\n",
        "ax[1].label_outer()\n",
        "fig.colorbar(img, ax=ax, format=\"%+2.f dB\")"
      ],
      "metadata": {
        "id": "2ZsQ2LJb7vM9"
      },
      "execution_count": null,
      "outputs": []
    }
  ]
}